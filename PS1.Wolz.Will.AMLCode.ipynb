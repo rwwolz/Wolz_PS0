{
 "cells": [
  {
   "cell_type": "code",
   "execution_count": null,
   "metadata": {},
   "outputs": [],
   "source": [
    "# 1.4 a) Choosing a random target function (line), pick random $x_n$ points and "
   ]
  },
  {
   "cell_type": "code",
   "execution_count": 2,
   "metadata": {},
   "outputs": [],
   "source": [
    "# Perceptron Algorithm Class\n",
    "\n",
    "import random\n",
    "import numpy as np\n",
    "from math import fabs\n",
    "import matplotlib.pyplot as pyp\n",
    "\n",
    "class Perceptron(object):\n",
    "    def __init__(self, nocovars, lrnrate = .9, delta = .01, iterations = 3000):   # Will try with other iteration limits\n",
    "        self._lr = lrnrate\n",
    "        self._delta = delta # Stopping point if we get close enough\n",
    "        self._iterations = iterations # In case data is not linearly separable so algorithm will complete\n",
    "        self._W = np.zeros(nocovars + 1) # Add one weight for bias\n",
    "        for i in range(len(self._W)):\n",
    "            self._W[i] = random.uniform(-1,1)\n",
    "        self._best_W = self._W\n",
    "\n",
    "    def activation(self, x):\n",
    "        if x > 0:\n",
    "            return 1\n",
    "        else:\n",
    "            return -1\n",
    "\n",
    "    def predict(self, X):\n",
    "        prod = self._W.T.dot(X) # or just return self.activation(self._W.T.dot(X))\n",
    "        return self.activation(prod)\n",
    "\n",
    "    def tot_err(self, X, Y):\n",
    "        e = np.ones(len(Y))\n",
    "        for i in range(len(Y)):\n",
    "            Xb = np.insert(X[i], 0, 1)\n",
    "            yhat = self.predict(Xb)\n",
    "            e[i] = Y[i] - yhat\n",
    "        return np.sum(e)\n",
    "\n",
    "    def train(self, X, Y):\n",
    "        # Please train before you test!!\n",
    "        e = np.ones(len(Y)) # Errors, used to end iteration if it can't find optimal\n",
    "        i = 0\n",
    "        e_best = np.sum(e)\n",
    "        \n",
    "        while np.sum(e) > self._delta and i < self._iterations:\n",
    "            Xb = np.insert(X[i%len(X)], 0, 1) # Add a x^0 term for the bias\n",
    "            yhat = self.predict(Xb)\n",
    "            err = Y[i%len(Y)] - yhat\n",
    "            e[i%len(Y)] = fabs(err) # Don't want errors to cancel each other out in total sum\n",
    "            self._W = self._W + self._lr*err*Xb # Error direction remains here\n",
    "            i += 1\n",
    "\n",
    "            if i%len(Y) == 0: # after every full iteration of going through the weights\n",
    "                if np.sum(e) < e_best: # if the new sum of errors is better than the best one so far:\n",
    "                    e_best = np.sum(e) # update our best errors\n",
    "                    self._best_W = self._W # keep track of the best one\n",
    "            if np.sum(e) < e_best:\n",
    "                e_best = np.sum(e)\n",
    "                self._best_W = self._W\n",
    "\n",
    "        print(\"Total sum of errors = \", np.sum(e))\n",
    "        return self._best_W \n",
    "        # return self._W # Try above should give the pocket algorithm??\n",
    "\n",
    "    def test(self, X, Y, showall = True):\n",
    "        # Don't test until you have trained!! (Results will be random and bad)\n",
    "        crt = 0 # Total correct\n",
    "        incrt = 0 # Total incorrect\n",
    "        tot = 0 # Total\n",
    "        for i in range(len(Y)):\n",
    "            Xb = np.insert(X[i], 0, 1) # Same as before, need to add for lengths to match\n",
    "            yhat = self.predict(Xb)\n",
    "            if showall:\n",
    "                print(\"Predicted: \", yhat, \" Actual: \", Y[i]) # To see the predictions\n",
    "            if Y[i] - yhat == 0:\n",
    "                crt += 1\n",
    "            tot += 1\n",
    "        crt_pct = float(crt)/float(tot)\n",
    "        print(\"Percentage of Correct Classifications = \", crt_pct)\n",
    "\n",
    "    def get_eqn(self, X, Y):\n",
    "        equn = \"Y_hat =\"\n",
    "        for i in range(len(self._best_W)):\n",
    "            equn += str(self._best_W[i])\n",
    "            if i != 0:\n",
    "                equn += \"X\"\n",
    "                equn += str(i)\n",
    "            if i + 1 != len(self._best_W):\n",
    "                equn += str(\" + \")\n",
    "        print(equn)"
   ]
  },
  {
   "cell_type": "code",
   "execution_count": 4,
   "metadata": {},
   "outputs": [],
   "source": [
    "def get_col(X, i):\n",
    "    return [row[i] for row in X]"
   ]
  },
  {
   "cell_type": "code",
   "execution_count": 7,
   "metadata": {},
   "outputs": [
    {
     "name": "stdout",
     "output_type": "stream",
     "text": [
      "X =  [[-1.3335102815377664, 6.106901703666384], [-1.1250958166660552, 9.491616636622624], [-1.7579135961142192, 3.2772990035345746], [-4.0588578399118695, -9.83819709680377], [-3.610903354329521, 9.231876915635041], [-3.03424422784384, -0.578782356946359], [-3.0473448449352576, 5.396770962069956], [-2.5332567709615668, 6.368509445648172], [-3.0700685993015875, 0.5397389439952924], [-3.4048027947345214, -7.433895328030424], [4.297087190189073, -9.25647835383823], [3.55707917937081, 3.0858085928295846], [2.2975444481653384, -1.5747702423431047], [1.0244391778517556, 7.1167687578781305], [3.0906072737227026, 3.5309990623261456], [4.7849443501980495, -3.4787552793428134], [1.2661118530303677, -8.336392882463201], [3.709802116498439, -0.49581401079222154], [1.295886619231187, -1.9468022535544591], [4.79116972706932, -0.8163636511081691]]\n",
      "Y =  [-1, -1, -1, -1, -1, -1, -1, -1, -1, -1, 1, 1, 1, 1, 1, 1, 1, 1, 1, 1]\n",
      "Total sum of errors =  0.0\n",
      "[-4.5963898  13.45278988  1.05076421]\n",
      "Percentage of Correct Classifications =  1.0\n",
      "Y_hat =-4.596389795142637 + 13.452789884080667X1 + 1.0507642092354956X2\n"
     ]
    },
    {
     "data": {
      "image/png": "[encoded data removed]",
      "text/plain": [
       "<Figure size 432x288 with 1 Axes>"
      ]
     },
     "metadata": {
      "needs_background": "light"
     },
     "output_type": "display_data"
    }
   ],
   "source": [
    "    Y = [None]*20\n",
    "    X = [None]*20\n",
    "    for i in range(0, 10):\n",
    "        X[i] = [random.uniform(-5,-1), random.uniform(-10,10)]\n",
    "        Y[i] = -1\n",
    "    for j in range(10, 20):\n",
    "        X[j] = [random.uniform(1,5), random.uniform(-10,10)]\n",
    "        Y[j] = 1\n",
    "    # Y = -1 for 0 to 9\n",
    "    # Y = 1 for 10 to 20\n",
    "    np.asarray(X)\n",
    "\n",
    "\n",
    "    print(\"X = \", X)\n",
    "    print(\"Y = \", Y)\n",
    "    p = Perceptron(nocovars = 2)\n",
    "    p.train(X, Y)\n",
    "    print(p._best_W)\n",
    "    Xtest = [None]*20\n",
    "    Ytest = [None]*20\n",
    "    for i in range(0, 10):\n",
    "        Xtest[i] = [random.uniform(-5,0), random.uniform(-10,10)]\n",
    "        Ytest[i] = -1\n",
    "    for j in range(10, 20):\n",
    "        Xtest[j] = [random.uniform(0,5), random.uniform(-10,10)]\n",
    "        Ytest[j] = 1\n",
    "    # Xtest[0] = [6, 0] # Just for fun to stop the data from being linearly separable\n",
    "    p.test(Xtest, Ytest, showall = False)\n",
    "\n",
    "    p.get_eqn(X, Y)\n",
    "\n",
    "    axes = pyp.gca()\n",
    "    axes.set_xlim([-7,7])\n",
    "    axes.set_ylim([-12,12])\n",
    "    x0 = get_col(Xtest, 0)\n",
    "    x1 = get_col(Xtest, 1)\n",
    "    X0red = x0[:len(x0)//2]\n",
    "    X0blue = x0[len(x0)//2:]\n",
    "    X1red = x1[:len(x1)//2]\n",
    "    X1blue = x1[len(x1)//2:]\n",
    "    pyp.plot(X0red, X1red, 'r.', markersize = 9)\n",
    "    pyp.plot(X0blue, X1blue, 'b.', markersize = 9)\n",
    "\n",
    "    pyp.ylabel(\"X2 Values\")\n",
    "    pyp.xlabel(\"X1 Values\")\n",
    "    wlx = np.array(range(-5, 5))\n",
    "    wly = eval('(-p._best_W[1]*wlx - p._best_W[0]) / p._best_W[2]')\n",
    "    pyp.plot(wlx, wly, 'g')\n",
    "    pyp.show()"
   ]
  },
  {
   "cell_type": "code",
   "execution_count": 113,
   "metadata": {},
   "outputs": [
    {
     "name": "stdout",
     "output_type": "stream",
     "text": [
      "cmin =  0.0\n",
      "crand =  5.0\n",
      "c1 =  4.0\n",
      "0.5001800000000075 0.49911600000000145 0.03764299999997672\n"
     ]
    }
   ],
   "source": [
    "# 1.10)\n",
    "\n",
    "import numpy as np\n",
    "import random\n",
    "import matplotlib.pyplot as pyp\n",
    "\n",
    "random.seed(3)\n",
    "rand_choice = random.randint(0, 1000)\n",
    "x = np.empty(1000)\n",
    "for i in range(1000):\n",
    "    x[i] = np.random.binomial(n = 10, p = .5)\n",
    "\n",
    "c_min = min(x)\n",
    "print(\"cmin = \", c_min)\n",
    "c_rand = x[rand_choice]\n",
    "print(\"crand = \", c_rand)\n",
    "c_1 = x[0]\n",
    "print(\"c1 = \", c_1)\n",
    "\n",
    "# figure out the \\mu for the 3 coins selected \\E[coin]\n",
    "\n",
    "# b)\n",
    "\n",
    "Cmin = np.empty(100000)\n",
    "Vmin = Cmin\n",
    "Crand = np.empty(100000)\n",
    "Vrand = Crand\n",
    "C1 = np.empty(100000)\n",
    "V1 = C1\n",
    "for i in range(100000):\n",
    "    rc = random.randint(0, 999)\n",
    "    x = np.random.binomial(n = 10, p = .5, size = 1000)\n",
    "    Cmin[i] = min(x)\n",
    "    Vmin[i] = Cmin[i]/10\n",
    "    Crand[i] = x[rc]\n",
    "    Vrand[i] = Crand[i]/10\n",
    "    C1[i] = x[0]\n",
    "    V1[i] = C1[i]/10\n",
    "\n",
    "print(sum(V1)/len(V1), sum(Vrand)/len(Vrand), sum(Vmin)/len(Vmin))"
   ]
  },
  {
   "cell_type": "code",
   "execution_count": 114,
   "metadata": {
    "scrolled": true
   },
   "outputs": [
    {
     "data": {
      "image/png": "[encoded data removed]",
      "text/plain": [
       "<Figure size 432x288 with 1 Axes>"
      ]
     },
     "metadata": {
      "needs_background": "light"
     },
     "output_type": "display_data"
    },
    {
     "data": {
      "image/png": "[encoded data removed]",
      "text/plain": [
       "<Figure size 432x288 with 1 Axes>"
      ]
     },
     "metadata": {
      "needs_background": "light"
     },
     "output_type": "display_data"
    },
    {
     "data": {
      "image/png": "[encoded data removed]",
      "text/plain": [
       "<Figure size 432x288 with 1 Axes>"
      ]
     },
     "metadata": {
      "needs_background": "light"
     },
     "output_type": "display_data"
    }
   ],
   "source": [
    "import matplotlib.pyplot as pyp\n",
    "pyp.hist(Vmin, range = (0,1), bins = 11)\n",
    "pyp.ylabel(\"Frequency of Values\")\n",
    "pyp.xlabel(\"v_min Values\")\n",
    "pyp.show()\n",
    "pyp.hist(Vrand, range = (0,1), bins = 11)\n",
    "pyp.ylabel(\"Frequency of Values\")\n",
    "pyp.xlabel(\"v_rand Values\")\n",
    "pyp.show()\n",
    "pyp.hist(V1, range = (0,1), bins = 11)\n",
    "pyp.ylabel(\"Frequency of Values\")\n",
    "pyp.xlabel(\"v_1 Values\")\n",
    "pyp.show()\n"
   ]
  },
  {
   "cell_type": "code",
   "execution_count": 117,
   "metadata": {},
   "outputs": [],
   "source": [
    "def prob(v, eps):\n",
    "    return np.where(abs(v - 0.5) > eps)[0].size/(v.size)"
   ]
  },
  {
   "cell_type": "code",
   "execution_count": 130,
   "metadata": {},
   "outputs": [
    {
     "data": {
      "image/png": "[encoded data removed]",
      "text/plain": [
       "<Figure size 432x288 with 1 Axes>"
      ]
     },
     "metadata": {
      "needs_background": "light"
     },
     "output_type": "display_data"
    }
   ],
   "source": [
    "import math\n",
    "\n",
    "# eps = [0, .1, .2, .3, .4, .5, .6, .7, .8, .9, 1]\n",
    "eps = [None]*51\n",
    "for i in range(0, 51):\n",
    "    eps[i] = float(i) / 50.0\n",
    "\n",
    "\n",
    "est_rand = [prob(Vrand, e) for e in eps]\n",
    "est_1 = [prob(V1, e) for e in eps]\n",
    "est_min = [prob(Vmin, e) for e in eps]\n",
    "HD = [2 * math.exp(-2 * pow(e,2) * 10) for e in eps]\n",
    "    \n",
    "pyp.plot(eps, est_rand, 'r') # Red is the plot for Y_rand = plot for Y_1\n",
    "pyp.plot(eps, est_1, 'b') # Blue is plot for Y_1 = plot for Y_rand\n",
    "pyp.plot(eps, est_min, 'g') # Green is plot for Y_min\n",
    "pyp.plot(eps, HD, 'y') # Yellow is the plot for Hoeffding bound.\n",
    "pyp.xlabel(\"Epsilon Values\")\n",
    "pyp.ylabel(\"P(|mu - nu| > epsilon)\")\n",
    "pyp.show()\n"
   ]
  },
  {
   "cell_type": "code",
   "execution_count": null,
   "metadata": {},
   "outputs": [],
   "source": []
  }
 ],
 "metadata": {
  "kernelspec": {
   "display_name": "Python 3",
   "language": "python",
   "name": "python3"
  },
  "language_info": {
   "codemirror_mode": {
    "name": "ipython",
    "version": 3
   },
   "file_extension": ".py",
   "mimetype": "text/x-python",
   "name": "python",
   "nbconvert_exporter": "python",
   "pygments_lexer": "ipython3",
   "version": "3.6.8"
  }
 },
 "nbformat": 4,
 "nbformat_minor": 2
}
