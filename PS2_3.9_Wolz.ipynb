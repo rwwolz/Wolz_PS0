{
 "cells": [
  {
   "cell_type": "code",
   "execution_count": 1,
   "metadata": {},
   "outputs": [
    {
     "data": {
      "text/plain": [
       "<Figure size 640x480 with 1 Axes>"
      ]
     },
     "metadata": {},
     "output_type": "display_data"
    }
   ],
   "source": [
    "# Plots for PS2\n",
    "#AML 3.9\n",
    "# Will Wolz\n",
    "import matplotlib\n",
    "import matplotlib.pyplot as pyp\n",
    "import numpy as np\n",
    "%matplotlib inline\n",
    "\n",
    "# Data for plotting\n",
    "s = np.arange(-1.0, 1.0, 0.05) # S ranges from -1 to 1\n",
    "s_pos = np.arange(0, 1, .1) # For the positive range \n",
    "s_neg = np.arange(-1, 0, .1) # For the negative range\n",
    "e_sq = (1-s)**2 # Error measure for squared error\n",
    "e_log = (1/np.log(2))*np.log(s + np.exp(-s)) # Log error\n",
    "e_clpos = 0*s_pos # all positive s have 0 error\n",
    "e_clneg = 1*(s_neg**(0)) # all negative s have 1 error (pointwise)\n",
    "\n",
    "\n",
    "fig, axes = pyp.subplots()\n",
    "axes.plot(s, e_log, 'r', label = \"E_log\") # Red for E_log\n",
    "axes.plot(s, e_sq, 'g', label = \"E_sq\") #Green for E_sq\n",
    "axes.plot(s_pos, e_clpos, 'b', label = \"E_class\") #Blue for E_class\n",
    "axes.plot(s_neg, e_clneg, 'b')\n",
    "axes.set_xlim(-1.2, 1.2)\n",
    "axes.set_ylim(-.6, 1.4)\n",
    "axes.legend()\n",
    "\n",
    "axes.set(xlabel='s-values', ylabel='Error',\n",
    "       title='Error vs. Signal Values')\n",
    "axes.grid()\n",
    "\n",
    "pyp.show()\n"
   ]
  },
  {
   "cell_type": "code",
   "execution_count": null,
   "metadata": {},
   "outputs": [],
   "source": []
  }
 ],
 "metadata": {
  "kernelspec": {
   "display_name": "Python 3",
   "language": "python",
   "name": "python3"
  },
  "language_info": {
   "codemirror_mode": {
    "name": "ipython",
    "version": 3
   },
   "file_extension": ".py",
   "mimetype": "text/x-python",
   "name": "python",
   "nbconvert_exporter": "python",
   "pygments_lexer": "ipython3",
   "version": "3.6.8"
  }
 },
 "nbformat": 4,
 "nbformat_minor": 2
}
